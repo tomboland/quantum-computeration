{
 "cells": [
  {
   "cell_type": "code",
   "execution_count": 2,
   "metadata": {},
   "outputs": [],
   "source": [
    "import numpy as np"
   ]
  },
  {
   "cell_type": "code",
   "execution_count": 48,
   "metadata": {},
   "outputs": [],
   "source": [
    "import math"
   ]
  },
  {
   "cell_type": "markdown",
   "metadata": {},
   "source": [
    "$$|0) := \\begin{bmatrix} 1 \\\\ 0 \\end{bmatrix}$$"
   ]
  },
  {
   "cell_type": "code",
   "execution_count": 3,
   "metadata": {},
   "outputs": [],
   "source": [
    "ket0 = np.array(\n",
    "    [[1.+0.j,\n",
    "      0.+0.j]])"
   ]
  },
  {
   "cell_type": "markdown",
   "metadata": {},
   "source": [
    "$$|1) := \\begin{bmatrix} 0 \\\\ 1 \\end{bmatrix}$$"
   ]
  },
  {
   "cell_type": "code",
   "execution_count": 4,
   "metadata": {},
   "outputs": [],
   "source": [
    "ket1 = np.array(\n",
    "    [0.+0.j,\n",
    "     1.+0.j])"
   ]
  },
  {
   "cell_type": "markdown",
   "metadata": {},
   "source": [
    "$$ X(\\alpha|0) + \\beta|1)) :=\n",
    "    \\begin{bmatrix}\n",
    "        0 & 1 \\\\\n",
    "        1 & 0\n",
    "    \\end{bmatrix}\n",
    "    (\\alpha|0) + \\beta|1))\n",
    "  = \\begin{bmatrix}\n",
    "        0 & 1 \\\\\n",
    "        1 & 0\n",
    "    \\end{bmatrix}\n",
    "    \\begin{bmatrix}\n",
    "        \\alpha \\\\\n",
    "        \\beta\n",
    "    \\end{bmatrix}\n",
    "  = \\begin{bmatrix}\n",
    "        \\beta \\\\\n",
    "        \\alpha\n",
    "    \\end{bmatrix}\n",
    "$$"
   ]
  },
  {
   "cell_type": "code",
   "execution_count": 55,
   "metadata": {},
   "outputs": [],
   "source": [
    "def X(mat: np.ndarray) -> np.ndarray:\n",
    "    \"\"\"Not gate. Inverts the state\"\"\"\n",
    "    return mat.dot(np.array(\n",
    "        [[0.+0.j, 1.+0.j],\n",
    "         [1.+0.j, 0.+0.j]]))"
   ]
  },
  {
   "cell_type": "markdown",
   "metadata": {},
   "source": [
    "$$\n",
    "    H|0) = \\frac{|0) + |1)}{\\sqrt{2}} \\\\\n",
    "    H|1) = \\frac{|0) - |1)}{\\sqrt{2}} \\\\\n",
    "    H(\\alpha|0) + \\beta|1))\n",
    "  = \\alpha(\\frac{|0) + |1)}{\\sqrt{2}})\n",
    "  + \\beta(\\frac{|0) - |1)}{\\sqrt{2}}) \\\\\n",
    "  = \\frac{\\alpha + \\beta}{\\sqrt{2}}|0)\n",
    "  + \\frac{\\alpha - \\beta}{\\sqrt{2}}|1) \\\\\n",
    "H = \\frac{1}{\\sqrt{2}}\n",
    "    \\begin{bmatrix}\n",
    "        1 & 1 \\\\\n",
    "        1 & -1\n",
    "    \\end{bmatrix}\n",
    "$$"
   ]
  },
  {
   "cell_type": "code",
   "execution_count": 64,
   "metadata": {},
   "outputs": [],
   "source": [
    "def H(mat: np.array) -> np.array:\n",
    "    \"\"\"Hadamard Gate\"\"\"\n",
    "    return 1/np.sqrt(2) * mat.dot(np.array(\n",
    "        [[1.+0.j, 1.+0.j],\n",
    "         [1.+0.j, -1.+0.j]]))"
   ]
  },
  {
   "cell_type": "markdown",
   "metadata": {},
   "source": [
    "$$ Y(\\alpha + \\beta) :=\n",
    "    \\begin{bmatrix}\n",
    "        0 & -i \\\\\n",
    "        i & 0\n",
    "    \\end{bmatrix}\n",
    "    \\begin{bmatrix}\n",
    "        \\alpha \\\\\n",
    "        \\beta\n",
    "    \\end{bmatrix}\n",
    "  = \\begin{bmatrix}\n",
    "        i\\beta \\\\\n",
    "        -i\\alpha\n",
    "    \\end{bmatrix}\n",
    "$$"
   ]
  },
  {
   "cell_type": "code",
   "execution_count": 70,
   "metadata": {},
   "outputs": [],
   "source": [
    "def Y(mat: np.array) -> np.array:\n",
    "    \"\"\"Pauli's Y matrix gate\"\"\"\n",
    "    return mat.dot(np.array(\n",
    "    [[0.+0.j, 0.+-1.j],\n",
    "     [0.+1.j, 0.+0.j]]))"
   ]
  },
  {
   "cell_type": "markdown",
   "metadata": {},
   "source": [
    "$$ Z(\\alpha + \\beta) :=\n",
    "    \\begin{bmatrix}\n",
    "        1 & 0 \\\\\n",
    "        0 & -1\n",
    "    \\end{bmatrix}\n",
    "    \\begin{bmatrix}\n",
    "        \\alpha \\\\\n",
    "        \\beta\n",
    "    \\end{bmatrix}\n",
    "  = \\begin{bmatrix}\n",
    "        \\alpha \\\\\n",
    "        -\\beta\n",
    "    \\end{bmatrix}\n",
    "$$"
   ]
  },
  {
   "cell_type": "code",
   "execution_count": 71,
   "metadata": {},
   "outputs": [],
   "source": [
    "def Z(mat: np.array) -> np.array:\n",
    "    \"\"\"Pauli's Z matrix gate\"\"\"\n",
    "    return mat.dot(np.array(\n",
    "        [[1.+0.j, 0.+0.j],\n",
    "         [0.+0.j, -1.+0.j]]))"
   ]
  },
  {
   "cell_type": "markdown",
   "metadata": {},
   "source": [
    "$$ R(\\alpha + \\beta) :=\n",
    "    \\begin{bmatrix}\n",
    "        \\cos{\\theta} & -\\sin{\\theta} \\\\\n",
    "        \\sin{\\theta} & \\cos{\\theta}\n",
    "    \\end{bmatrix}\n",
    "    \\begin{bmatrix}\n",
    "        \\alpha \\\\\n",
    "        \\beta\n",
    "    \\end{bmatrix}\n",
    "$$"
   ]
  },
  {
   "cell_type": "code",
   "execution_count": 74,
   "metadata": {},
   "outputs": [],
   "source": [
    "def R(mat: np.array, theta: float) -> np.array:\n",
    "    c, s = np.cos(theta), np.sin(theta)\n",
    "    return mat.dot(np.array(\n",
    "        [[c, -s],\n",
    "         [s, c]]))"
   ]
  },
  {
   "cell_type": "markdown",
   "metadata": {},
   "source": [
    "$$ c :=\n",
    "    \\begin{bmatrix}\n",
    "        0.6 \\\\\n",
    "        0.8\n",
    "    \\end{bmatrix}\n",
    " =  \\begin{bmatrix}\n",
    "        \\alpha \\\\\n",
    "        \\beta\n",
    "    \\end{bmatrix}\n",
    "$$"
   ]
  },
  {
   "cell_type": "code",
   "execution_count": 5,
   "metadata": {},
   "outputs": [],
   "source": [
    "c = np.array(\n",
    "    [0.6+0.j,\n",
    "     0.8+0.j])"
   ]
  },
  {
   "cell_type": "markdown",
   "metadata": {},
   "source": [
    "$$  0.6|0) + 0.8|1)\n",
    "  = 0.6 \\begin{bmatrix} 1 \\\\ 0 \\end{bmatrix}\n",
    "  + 0.8 \\begin{bmatrix} 0 \\\\ 1 \\end{bmatrix}\n",
    "  = \\begin{bmatrix} 0.6 \\\\ 0.8 \\end{bmatrix}\n",
    "$$"
   ]
  },
  {
   "cell_type": "code",
   "execution_count": 7,
   "metadata": {},
   "outputs": [
    {
     "data": {
      "text/plain": [
       "array([[0.6+0.j, 0.8+0.j]])"
      ]
     },
     "execution_count": 7,
     "metadata": {},
     "output_type": "execute_result"
    }
   ],
   "source": [
    "c * ket0 + c * ket1"
   ]
  },
  {
   "cell_type": "markdown",
   "metadata": {},
   "source": [
    "$$ c2 :=\n",
    "    \\frac{1+i}{2}|0)\n",
    "  + \\frac{i}{\\sqrt{2}}|1)\n",
    "  = \\begin{bmatrix}\n",
    "      \\frac{1+i}{2} \\\\\n",
    "      \\frac{i}{\\sqrt{2}}\n",
    "    \\end{bmatrix}\n",
    "$$"
   ]
  },
  {
   "cell_type": "code",
   "execution_count": 8,
   "metadata": {},
   "outputs": [],
   "source": [
    "c2 = np.array(\n",
    "    [(1.+1.j) / 2,\n",
    "     (0.+1.j) / np.sqrt(2.)])"
   ]
  },
  {
   "cell_type": "code",
   "execution_count": 9,
   "metadata": {},
   "outputs": [
    {
     "data": {
      "text/plain": [
       "array([[0.5+0.5j, 0. +0.j ]])"
      ]
     },
     "execution_count": 9,
     "metadata": {},
     "output_type": "execute_result"
    }
   ],
   "source": [
    "c2 * ket0"
   ]
  },
  {
   "cell_type": "code",
   "execution_count": 10,
   "metadata": {},
   "outputs": [
    {
     "data": {
      "text/plain": [
       "array([0.+0.j        , 0.+0.70710678j])"
      ]
     },
     "execution_count": 10,
     "metadata": {},
     "output_type": "execute_result"
    }
   ],
   "source": [
    "c2 * ket1"
   ]
  },
  {
   "cell_type": "markdown",
   "metadata": {},
   "source": [
    "$$\n",
    "    \\begin{bmatrix}\n",
    "        0 & 1 \\\\\n",
    "        1 & 0\n",
    "    \\end{bmatrix}\n",
    "    \\begin{bmatrix}\n",
    "        \\frac{1+i}{2} \\\\\n",
    "        \\frac{i}{\\sqrt{2}}\n",
    "    \\end{bmatrix}\n",
    "  = \\begin{bmatrix}\n",
    "        0.707...j \\\\\n",
    "        0.5+0.5j\n",
    "    \\end{bmatrix}\n",
    "$$"
   ]
  },
  {
   "cell_type": "code",
   "execution_count": 21,
   "metadata": {},
   "outputs": [
    {
     "data": {
      "text/plain": [
       "array([0. +0.70710678j, 0.5+0.5j       ])"
      ]
     },
     "execution_count": 21,
     "metadata": {},
     "output_type": "execute_result"
    }
   ],
   "source": [
    "X(c2)"
   ]
  },
  {
   "cell_type": "code",
   "execution_count": 22,
   "metadata": {},
   "outputs": [
    {
     "data": {
      "text/plain": [
       "array([0.8+0.j, 0.6+0.j])"
      ]
     },
     "execution_count": 22,
     "metadata": {},
     "output_type": "execute_result"
    }
   ],
   "source": [
    "X(c)"
   ]
  },
  {
   "cell_type": "code",
   "execution_count": 54,
   "metadata": {},
   "outputs": [],
   "source": [
    "def check_normalisation_constraint(mat: np.ndarray) -> bool:\n",
    "    \"\"\"The sum of the squares of the amplitudes of the superposition must be equal to 1\"\"\"\n",
    "    return math.isclose(1, np.sum(np.abs(np.power(mat, 2))))"
   ]
  },
  {
   "cell_type": "code",
   "execution_count": 53,
   "metadata": {},
   "outputs": [
    {
     "data": {
      "text/plain": [
       "True"
      ]
     },
     "execution_count": 53,
     "metadata": {},
     "output_type": "execute_result"
    }
   ],
   "source": [
    "check_normalisation_constraint(c2)"
   ]
  },
  {
   "cell_type": "code",
   "execution_count": 51,
   "metadata": {},
   "outputs": [
    {
     "data": {
      "text/plain": [
       "True"
      ]
     },
     "execution_count": 51,
     "metadata": {},
     "output_type": "execute_result"
    }
   ],
   "source": [
    "check_normalisation_constraint(c)"
   ]
  },
  {
   "cell_type": "code",
   "execution_count": 65,
   "metadata": {},
   "outputs": [
    {
     "data": {
      "text/plain": [
       "array([0.35355339+0.85355339j, 0.35355339-0.14644661j])"
      ]
     },
     "execution_count": 65,
     "metadata": {},
     "output_type": "execute_result"
    }
   ],
   "source": [
    "H(c2)"
   ]
  },
  {
   "cell_type": "code",
   "execution_count": 67,
   "metadata": {},
   "outputs": [
    {
     "data": {
      "text/plain": [
       "0.9999999999999997"
      ]
     },
     "execution_count": 67,
     "metadata": {},
     "output_type": "execute_result"
    }
   ],
   "source": [
    "np.sum(np.abs(np.power(H(c2), 2)))"
   ]
  },
  {
   "cell_type": "code",
   "execution_count": 69,
   "metadata": {},
   "outputs": [
    {
     "data": {
      "text/plain": [
       "True"
      ]
     },
     "execution_count": 69,
     "metadata": {},
     "output_type": "execute_result"
    }
   ],
   "source": [
    "check_normalisation_constraint(X(H(c2)))"
   ]
  },
  {
   "cell_type": "code",
   "execution_count": 76,
   "metadata": {},
   "outputs": [],
   "source": [
    "rc2 = R(c2, 90)"
   ]
  },
  {
   "cell_type": "code",
   "execution_count": 77,
   "metadata": {},
   "outputs": [
    {
     "data": {
      "text/plain": [
       "True"
      ]
     },
     "execution_count": 77,
     "metadata": {},
     "output_type": "execute_result"
    }
   ],
   "source": [
    "check_normalisation_constraint(rc2)"
   ]
  },
  {
   "cell_type": "code",
   "execution_count": null,
   "metadata": {},
   "outputs": [],
   "source": []
  }
 ],
 "metadata": {
  "kernelspec": {
   "display_name": "Python 3",
   "language": "python",
   "name": "python3"
  },
  "language_info": {
   "codemirror_mode": {
    "name": "ipython",
    "version": 3
   },
   "file_extension": ".py",
   "mimetype": "text/x-python",
   "name": "python",
   "nbconvert_exporter": "python",
   "pygments_lexer": "ipython3",
   "version": "3.8.1"
  }
 },
 "nbformat": 4,
 "nbformat_minor": 4
}
